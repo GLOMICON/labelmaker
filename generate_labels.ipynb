{
 "cells": [
  {
   "cell_type": "code",
   "execution_count": 1,
   "metadata": {},
   "outputs": [],
   "source": [
    "import os\n",
    "import numpy as np\n",
    "import qrcode\n",
    "from PIL import Image\n",
    "from PIL import ImageFont\n",
    "from PIL import ImageDraw "
   ]
  },
  {
   "cell_type": "code",
   "execution_count": 2,
   "metadata": {},
   "outputs": [],
   "source": [
    "# text for code\n",
    "project = 'SFER'\n",
    "contact = 'Thompson'\n",
    "date = '201810'\n",
    "num_samples = 3\n",
    "num_replicates = 2\n",
    "\n",
    "# label dimensions\n",
    "label_width = 1.05\n",
    "label_height = 0.5"
   ]
  },
  {
   "cell_type": "code",
   "execution_count": 3,
   "metadata": {},
   "outputs": [],
   "source": [
    "# create directory for project labels\n",
    "newdir = 'labels_%s' % project\n",
    "if not os.path.exists(newdir):\n",
    "    os.makedirs(newdir)"
   ]
  },
  {
   "cell_type": "code",
   "execution_count": 4,
   "metadata": {},
   "outputs": [],
   "source": [
    "# make labels, iterating over sample numbers and replicates\n",
    "for sample in np.arange(num_samples)+1:\n",
    "    for replicate in np.arange(num_replicates)+1:\n",
    "        \n",
    "        # generate text code and qr code\n",
    "        code = '%s.%s.%s.s%03d.r%02d' % (project, contact, date, sample, replicate)\n",
    "        string = 'Project: %s\\nContact: %s\\nDate: %s\\nSample: s%03d\\nReplicate: r%02d' % (\n",
    "            project, contact, date, sample, replicate)\n",
    "\n",
    "        # make qr code\n",
    "        qr = qrcode.QRCode(\n",
    "            #version=1, # set fit=True below to make this automatic\n",
    "            #error_correction=qrcode.constants.ERROR_CORRECT_L, # default is ERROR_CORRECT_M\n",
    "            box_size=8, # number of pixels per box\n",
    "            border=10, # larger border yields smaller qr code\n",
    "        )\n",
    "        qr.add_data(code)\n",
    "        qr.make(fit=True)\n",
    "        img = qr.make_image(fill_color=\"black\", back_color=\"white\")\n",
    "\n",
    "        # make label from qr code and string\n",
    "        label = Image.new('RGB', (int(img.height*label_width/label_height), img.height), color='white')\n",
    "        label.paste(img, (0,0))\n",
    "        draw = ImageDraw.Draw(label)\n",
    "        font = ImageFont.truetype('Monaco.dfont', 24)\n",
    "        draw.text((img.height,int(img.height*0.3)), string, (0,0,0), font=font)\n",
    "        label.save('%s/label_s%03d_r%02d.png' % (newdir, sample, replicate))"
   ]
  }
 ],
 "metadata": {
  "kernelspec": {
   "display_name": "Python 3",
   "language": "python",
   "name": "python3"
  },
  "language_info": {
   "codemirror_mode": {
    "name": "ipython",
    "version": 3
   },
   "file_extension": ".py",
   "mimetype": "text/x-python",
   "name": "python",
   "nbconvert_exporter": "python",
   "pygments_lexer": "ipython3",
   "version": "3.7.0"
  }
 },
 "nbformat": 4,
 "nbformat_minor": 2
}
